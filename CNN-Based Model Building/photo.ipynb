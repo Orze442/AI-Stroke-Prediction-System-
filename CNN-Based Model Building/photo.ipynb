{
 "cells": [
  {
   "cell_type": "code",
   "execution_count": 6,
   "id": "7513d5f0",
   "metadata": {},
   "outputs": [],
   "source": [
    "# Step 1: Model Loading\n",
    "\n",
    "import torch\n",
    "from torchvision import models, transforms\n",
    "import torch.nn as nn\n",
    "\n",
    "# Load your trained model architecture\n",
    "model = models.resnet18(pretrained=False)\n",
    "num_features = model.fc.in_features\n",
    "model.fc = nn.Linear(num_features, 3)  # 3 classes: Normal, Hemorrhagic, Ischemic\n",
    "\n",
    "# Load the trained weights\n",
    "model.load_state_dict(torch.load(\"best_brain_ct_model.pth\"))\n",
    "\n",
    "# Move model to GPU\n",
    "device = torch.device(\"cuda\" if torch.cuda.is_available() else \"cpu\")\n",
    "model = model.to(device)\n",
    "\n",
    "# Set model to evaluation mode\n",
    "model.eval()\n",
    "\n",
    "# Class names\n",
    "class_names = ['Normal', 'Hemorrhagic', 'Ischemic']"
   ]
  },
  {
   "cell_type": "code",
   "execution_count": 7,
   "id": "ec736382",
   "metadata": {},
   "outputs": [],
   "source": [
    "# Step 2: Image Processing\n",
    "\n",
    "from PIL import Image\n",
    "import numpy as np\n",
    "\n",
    "# Define the same transformations you used for validation\n",
    "transform = transforms.Compose([\n",
    "    transforms.Resize((224, 224)),  # Ensure the size matches training\n",
    "    transforms.ToTensor(),\n",
    "    transforms.Normalize(mean=[0.485, 0.456, 0.406], std=[0.229, 0.224, 0.225])\n",
    "])\n"
   ]
  },
  {
   "cell_type": "code",
   "execution_count": 8,
   "id": "59a1142a",
   "metadata": {},
   "outputs": [],
   "source": [
    "# Step 3: Prediction Function\n",
    "\n",
    "def predict_image(image_path, model, transform, device):\n",
    "    # Load and preprocess the image\n",
    "    image = Image.open(image_path).convert('RGB')\n",
    "    image_tensor = transform(image).unsqueeze(0).to(device)  # Add batch dimension\n",
    "\n",
    "    # Predict\n",
    "    with torch.no_grad():\n",
    "        outputs = model(image_tensor)\n",
    "        _, predicted = outputs.max(1)\n",
    "        predicted_class = class_names[predicted.item()]\n",
    "    \n",
    "    return predicted_class"
   ]
  },
  {
   "cell_type": "code",
   "execution_count": 12,
   "id": "91cd5154",
   "metadata": {},
   "outputs": [
    {
     "name": "stdout",
     "output_type": "stream",
     "text": [
      "The model predicts: Ischemic\n"
     ]
    }
   ],
   "source": [
    "# Step 4: Example Usage\n",
    "\n",
    "# Example: Provide your image path here\n",
    "image_path = \"test2.png\"\n",
    "\n",
    "predicted_label = predict_image(image_path, model, transform, device)\n",
    "print(f\"The model predicts: {predicted_label}\")"
   ]
  }
 ],
 "metadata": {
  "kernelspec": {
   "display_name": "MRI",
   "language": "python",
   "name": "python3"
  },
  "language_info": {
   "codemirror_mode": {
    "name": "ipython",
    "version": 3
   },
   "file_extension": ".py",
   "mimetype": "text/x-python",
   "name": "python",
   "nbconvert_exporter": "python",
   "pygments_lexer": "ipython3",
   "version": "3.13.5"
  }
 },
 "nbformat": 4,
 "nbformat_minor": 5
}
